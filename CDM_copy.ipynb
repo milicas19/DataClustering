{
 "cells": [
  {
   "cell_type": "code",
   "execution_count": null,
   "metadata": {},
   "outputs": [
    {
     "ename": "",
     "evalue": "",
     "output_type": "error",
     "traceback": [
      "\u001b[1;31mFailed to start the Kernel. \n",
      "\u001b[1;31mENOSPC: no space left on device, open '/var/folders/8t/4nqgszc57h77dwy61lkk106c0000gn/T/kernel-v2-5073FTNrO0itq6yQ.json'. \n",
      "\u001b[1;31mView Jupyter <a href='command:jupyter.viewOutput'>log</a> for further details."
     ]
    }
   ],
   "source": [
    "import pandas as pd\n",
    "import copy\n",
    "import math\n",
    "import numpy as np\n",
    "import enum \n",
    "\n",
    "import networkx as nx\n",
    "from networkx.convert_matrix import from_numpy_array\n",
    "\n",
    "from sklearn.preprocessing import StandardScaler\n",
    "from sklearn.preprocessing import MinMaxScaler\n",
    "from sklearn.decomposition import PCA\n",
    "\n",
    "import scipy.spatial.distance\n",
    "import scipy.stats as stats\n",
    "from scipy.stats import pearsonr\n",
    "from scipy.stats import kurtosis, skew\n",
    "\n",
    "import matplotlib.pyplot as plt\n",
    "\n",
    "import pylab"
   ]
  },
  {
   "cell_type": "code",
   "execution_count": null,
   "metadata": {},
   "outputs": [
    {
     "ename": "",
     "evalue": "",
     "output_type": "error",
     "traceback": [
      "\u001b[1;31mFailed to start the Kernel. \n",
      "\u001b[1;31mENOSPC: no space left on device, open '/var/folders/8t/4nqgszc57h77dwy61lkk106c0000gn/T/kernel-v2-5073FTNrO0itq6yQ.json'. \n",
      "\u001b[1;31mView Jupyter <a href='command:jupyter.viewOutput'>log</a> for further details."
     ]
    }
   ],
   "source": [
    "cell_data = pd.read_csv('cell_data.tsv', sep='\\t')\n",
    "cell_data.rename(columns={cell_data.columns[0]: 'cellID'}, inplace=True)\n",
    "cell_data"
   ]
  },
  {
   "cell_type": "markdown",
   "metadata": {},
   "source": [
    "**Formiranje matrica susedstva za grafove G1 i G2 kod kojih su cvorovi celije, a tezine grana:**\n",
    "- euklidsko rastojanje na osnovu koordinata celija (x,y)\n",
    "- euklidsko rastojanje na osnovu redukovanih genskih ekspresija celija"
   ]
  },
  {
   "cell_type": "code",
   "execution_count": null,
   "metadata": {},
   "outputs": [
    {
     "ename": "",
     "evalue": "",
     "output_type": "error",
     "traceback": [
      "\u001b[1;31mFailed to start the Kernel. \n",
      "\u001b[1;31mENOSPC: no space left on device, open '/var/folders/8t/4nqgszc57h77dwy61lkk106c0000gn/T/kernel-v2-5073FTNrO0itq6yQ.json'. \n",
      "\u001b[1;31mView Jupyter <a href='command:jupyter.viewOutput'>log</a> for further details."
     ]
    }
   ],
   "source": [
    "# pravi matricu susedstva grafa \n",
    "# data_dict[celija] = (x,y) ili data_dict[celija] = redukovane genske ekspresije\n",
    "# cells = [id_celije_1, ... , id_celije_n]\n",
    "def adjacency_matrix(data_dict, cells):\n",
    "    n = len(cells)\n",
    "    adjacency_matrix = np.zeros(shape=(n, n))\n",
    "\n",
    "    for i in range(0, n - 1):\n",
    "        for j in range(i + 1, n):\n",
    "            adjacency_matrix[i][j] = scipy.spatial.distance.euclidean(data_dict[cells[i]], data_dict[cells[j]])\n",
    "            adjacency_matrix[j][i] = adjacency_matrix[i][j]\n",
    "\n",
    "    return adjacency_matrix"
   ]
  },
  {
   "cell_type": "code",
   "execution_count": null,
   "metadata": {},
   "outputs": [
    {
     "ename": "",
     "evalue": "",
     "output_type": "error",
     "traceback": [
      "\u001b[1;31mFailed to start the Kernel. \n",
      "\u001b[1;31mENOSPC: no space left on device, open '/var/folders/8t/4nqgszc57h77dwy61lkk106c0000gn/T/kernel-v2-5073FTNrO0itq6yQ.json'. \n",
      "\u001b[1;31mView Jupyter <a href='command:jupyter.viewOutput'>log</a> for further details."
     ]
    }
   ],
   "source": [
    "cell_dict = {}\n",
    "cells = []\n",
    "\n",
    "# cell_dict ce sadrzati koordinate celija (cvorova) \n",
    "# cells je lista id-eva svih celija\n",
    "for index, row in cell_data.iterrows():\n",
    "    cell_dict[row['cellID']] = (row['x'], row['y'])\n",
    "    cells.append(row['cellID'])"
   ]
  },
  {
   "cell_type": "code",
   "execution_count": null,
   "metadata": {},
   "outputs": [
    {
     "ename": "",
     "evalue": "",
     "output_type": "error",
     "traceback": [
      "\u001b[1;31mFailed to start the Kernel. \n",
      "\u001b[1;31mENOSPC: no space left on device, open '/var/folders/8t/4nqgszc57h77dwy61lkk106c0000gn/T/kernel-v2-5073FTNrO0itq6yQ.json'. \n",
      "\u001b[1;31mView Jupyter <a href='command:jupyter.viewOutput'>log</a> for further details."
     ]
    }
   ],
   "source": [
    "adjacency_matrix_1 = adjacency_matrix(cell_dict, cells)"
   ]
  },
  {
   "cell_type": "code",
   "execution_count": null,
   "metadata": {},
   "outputs": [
    {
     "ename": "",
     "evalue": "",
     "output_type": "error",
     "traceback": [
      "\u001b[1;31mFailed to start the Kernel. \n",
      "\u001b[1;31mENOSPC: no space left on device, open '/var/folders/8t/4nqgszc57h77dwy61lkk106c0000gn/T/kernel-v2-5073FTNrO0itq6yQ.json'. \n",
      "\u001b[1;31mView Jupyter <a href='command:jupyter.viewOutput'>log</a> for further details."
     ]
    }
   ],
   "source": [
    "# Redukcija dimenzionalnosti genskih ekspresija pomocu PCA metode\n",
    "gene_exp = cell_data.copy()\n",
    "gene_exp.drop('cellID', axis=1, inplace=True)\n",
    "gene_exp.drop('x', axis=1, inplace=True)\n",
    "gene_exp.drop('y', axis=1, inplace=True)\n",
    "\n",
    "scaling = StandardScaler()\n",
    "scaling.fit(gene_exp)\n",
    "scaled_data = scaling.transform(gene_exp)\n",
    "\n",
    "pca = PCA(n_components=2500)\n",
    "reduced_data = pca.fit_transform(scaled_data)\n",
    "pca.explained_variance_ratio_.cumsum()"
   ]
  },
  {
   "cell_type": "code",
   "execution_count": null,
   "metadata": {},
   "outputs": [
    {
     "ename": "",
     "evalue": "",
     "output_type": "error",
     "traceback": [
      "\u001b[1;31mFailed to start the Kernel. \n",
      "\u001b[1;31mENOSPC: no space left on device, open '/var/folders/8t/4nqgszc57h77dwy61lkk106c0000gn/T/kernel-v2-5073FTNrO0itq6yQ.json'. \n",
      "\u001b[1;31mView Jupyter <a href='command:jupyter.viewOutput'>log</a> for further details."
     ]
    }
   ],
   "source": [
    "# reduced_data_dict ce sadrzati redukovane genske ekspresije celija (cvorova) \n",
    "reduced_data_dict = {}\n",
    "for i in range(0, len(reduced_data)):\n",
    "    reduced_data_dict[cells[i]] = reduced_data[i]\n",
    "len(reduced_data_dict)"
   ]
  },
  {
   "cell_type": "code",
   "execution_count": null,
   "metadata": {},
   "outputs": [
    {
     "ename": "",
     "evalue": "",
     "output_type": "error",
     "traceback": [
      "\u001b[1;31mFailed to start the Kernel. \n",
      "\u001b[1;31mENOSPC: no space left on device, open '/var/folders/8t/4nqgszc57h77dwy61lkk106c0000gn/T/kernel-v2-5073FTNrO0itq6yQ.json'. \n",
      "\u001b[1;31mView Jupyter <a href='command:jupyter.viewOutput'>log</a> for further details."
     ]
    }
   ],
   "source": [
    "adjacency_matrix_2 = adjacency_matrix(reduced_data_dict, cells)"
   ]
  },
  {
   "cell_type": "markdown",
   "metadata": {},
   "source": [
    "**Normalizovanje matrica susedstva grafova G1 i G2.**"
   ]
  },
  {
   "cell_type": "code",
   "execution_count": null,
   "metadata": {},
   "outputs": [
    {
     "ename": "",
     "evalue": "",
     "output_type": "error",
     "traceback": [
      "\u001b[1;31mFailed to start the Kernel. \n",
      "\u001b[1;31mENOSPC: no space left on device, open '/var/folders/8t/4nqgszc57h77dwy61lkk106c0000gn/T/kernel-v2-5073FTNrO0itq6yQ.json'. \n",
      "\u001b[1;31mView Jupyter <a href='command:jupyter.viewOutput'>log</a> for further details."
     ]
    }
   ],
   "source": [
    "min_max_scaler = MinMaxScaler(feature_range=(0, 1))\n",
    "norm_adj_matrix_1 = min_max_scaler.fit_transform(adjacency_matrix_1)\n",
    "norm_adj_matrix_1"
   ]
  },
  {
   "cell_type": "code",
   "execution_count": null,
   "metadata": {},
   "outputs": [
    {
     "ename": "",
     "evalue": "",
     "output_type": "error",
     "traceback": [
      "\u001b[1;31mFailed to start the Kernel. \n",
      "\u001b[1;31mENOSPC: no space left on device, open '/var/folders/8t/4nqgszc57h77dwy61lkk106c0000gn/T/kernel-v2-5073FTNrO0itq6yQ.json'. \n",
      "\u001b[1;31mView Jupyter <a href='command:jupyter.viewOutput'>log</a> for further details."
     ]
    }
   ],
   "source": [
    "norm_adj_matrix_2 = min_max_scaler.fit_transform(adjacency_matrix_2)\n",
    "norm_adj_matrix_2"
   ]
  },
  {
   "cell_type": "markdown",
   "metadata": {},
   "source": [
    "**Poredjenje celija na osnovu svih atributa celije (x, y, redukovane genske ekspresije)**\n",
    "\n",
    "Formiranje recnika koji ima za kljuceve id celuje, a za vrednosti vektor (x,y, redukovane genske ekspresije)"
   ]
  },
  {
   "cell_type": "code",
   "execution_count": null,
   "metadata": {},
   "outputs": [
    {
     "ename": "",
     "evalue": "",
     "output_type": "error",
     "traceback": [
      "\u001b[1;31mFailed to start the Kernel. \n",
      "\u001b[1;31mENOSPC: no space left on device, open '/var/folders/8t/4nqgszc57h77dwy61lkk106c0000gn/T/kernel-v2-5073FTNrO0itq6yQ.json'. \n",
      "\u001b[1;31mView Jupyter <a href='command:jupyter.viewOutput'>log</a> for further details."
     ]
    }
   ],
   "source": [
    "cells_all_features = {}\n",
    "for cell in cells:\n",
    "    list1 = np.array(cell_dict[cell])\n",
    "    list2 = np.array(reduced_data_dict[cell])\n",
    "    cells_all_features[cell] = np.concatenate((list1, list2))\n",
    "cells_all_features"
   ]
  },
  {
   "cell_type": "code",
   "execution_count": null,
   "metadata": {},
   "outputs": [
    {
     "ename": "",
     "evalue": "",
     "output_type": "error",
     "traceback": [
      "\u001b[1;31mFailed to start the Kernel. \n",
      "\u001b[1;31mENOSPC: no space left on device, open '/var/folders/8t/4nqgszc57h77dwy61lkk106c0000gn/T/kernel-v2-5073FTNrO0itq6yQ.json'. \n",
      "\u001b[1;31mView Jupyter <a href='command:jupyter.viewOutput'>log</a> for further details."
     ]
    }
   ],
   "source": [
    "import igraph as ig\n",
    "import leidenalg\n",
    "import matplotlib.cm as cm"
   ]
  },
  {
   "cell_type": "code",
   "execution_count": null,
   "metadata": {},
   "outputs": [
    {
     "ename": "",
     "evalue": "",
     "output_type": "error",
     "traceback": [
      "\u001b[1;31mFailed to start the Kernel. \n",
      "\u001b[1;31mENOSPC: no space left on device, open '/var/folders/8t/4nqgszc57h77dwy61lkk106c0000gn/T/kernel-v2-5073FTNrO0itq6yQ.json'. \n",
      "\u001b[1;31mView Jupyter <a href='command:jupyter.viewOutput'>log</a> for further details."
     ]
    }
   ],
   "source": [
    "def reduce_graph(adjacency_matrix, N):\n",
    "   G = ig.Graph.Weighted_Adjacency(adjacency_matrix.tolist(), mode=ig.ADJ_UPPER)\n",
    "\n",
    "   reduced_G = ig.Graph()\n",
    "   reduced_G.add_vertices(G.vcount())\n",
    "\n",
    "   for node in G.vs:\n",
    "     neighbors = sorted(G.neighbors(node, mode=\"out\"), key=lambda n: G.es[G.get_eid(node.index, n)]['weight'])[:N]\n",
    "     for neighbor in neighbors:\n",
    "        reduced_G.add_edge(node.index, neighbor, weight=G.es[G.get_eid(node.index, neighbor)]['weight'])\n",
    "   \n",
    "   return reduced_G"
   ]
  },
  {
   "cell_type": "code",
   "execution_count": null,
   "metadata": {},
   "outputs": [
    {
     "ename": "",
     "evalue": "",
     "output_type": "error",
     "traceback": [
      "\u001b[1;31mFailed to start the Kernel. \n",
      "\u001b[1;31mENOSPC: no space left on device, open '/var/folders/8t/4nqgszc57h77dwy61lkk106c0000gn/T/kernel-v2-5073FTNrO0itq6yQ.json'. \n",
      "\u001b[1;31mView Jupyter <a href='command:jupyter.viewOutput'>log</a> for further details."
     ]
    }
   ],
   "source": [
    "def plot(G, node_colors, cell_dict, cells):\n",
    "    fig, ax = plt.subplots()\n",
    "\n",
    "    for node in G.vs:\n",
    "        (x, y) = cell_dict[cells[node.index]]\n",
    "        color = node_colors[node.index]\n",
    "        ax.scatter(x, y, color=color, s=50, alpha=0.7)\n",
    "\n",
    "    ax.axis(\"off\")\n",
    "    plt.show()"
   ]
  },
  {
   "cell_type": "code",
   "execution_count": null,
   "metadata": {},
   "outputs": [
    {
     "ename": "",
     "evalue": "",
     "output_type": "error",
     "traceback": [
      "\u001b[1;31mFailed to start the Kernel. \n",
      "\u001b[1;31mENOSPC: no space left on device, open '/var/folders/8t/4nqgszc57h77dwy61lkk106c0000gn/T/kernel-v2-5073FTNrO0itq6yQ.json'. \n",
      "\u001b[1;31mView Jupyter <a href='command:jupyter.viewOutput'>log</a> for further details."
     ]
    }
   ],
   "source": [
    "def plot_sec(G, node_colors):\n",
    "    layout = G.layout(layout_algorithm=\"fruchterman_reingold\")\n",
    "    coords = np.array(layout)\n",
    "\n",
    "    plt.scatter(coords[:, 0], coords[:, 1], s=50, color=node_colors, alpha=0.7)\n",
    "\n",
    "    plt.axis(\"off\")\n",
    "    plt.show()"
   ]
  },
  {
   "cell_type": "code",
   "execution_count": null,
   "metadata": {},
   "outputs": [
    {
     "ename": "",
     "evalue": "",
     "output_type": "error",
     "traceback": [
      "\u001b[1;31mFailed to start the Kernel. \n",
      "\u001b[1;31mENOSPC: no space left on device, open '/var/folders/8t/4nqgszc57h77dwy61lkk106c0000gn/T/kernel-v2-5073FTNrO0itq6yQ.json'. \n",
      "\u001b[1;31mView Jupyter <a href='command:jupyter.viewOutput'>log</a> for further details."
     ]
    }
   ],
   "source": [
    "def make_union(reduced_graph_1, reduced_graph_2):\n",
    "    G_union = ig.Graph(len(reduced_graph_1.vs), directed=False)\n",
    "\n",
    "    # Dodavanje grana iz prvog grafa\n",
    "    for edge in reduced_graph_1.es:\n",
    "        source, target = edge.tuple\n",
    "        G_union.add_edge(source, target, weight=edge[\"weight\"])\n",
    "\n",
    "    # Dodavanje grana iz drugog grafa, kombinovanje težina\n",
    "    for edge in reduced_graph_2.es:\n",
    "        source, target = edge.tuple\n",
    "        if G_union.are_connected(source, target):\n",
    "            existing_edge = G_union.es[G_union.get_eid(source, target)]\n",
    "            existing_edge[\"weight\"] = (existing_edge[\"weight\"] + edge[\"weight\"]) / 2\n",
    "        else:\n",
    "            G_union.add_edge(source, target, weight=edge[\"weight\"])\n",
    "    \n",
    "    return G_union"
   ]
  },
  {
   "cell_type": "code",
   "execution_count": null,
   "metadata": {},
   "outputs": [
    {
     "ename": "",
     "evalue": "",
     "output_type": "error",
     "traceback": [
      "\u001b[1;31mFailed to start the Kernel. \n",
      "\u001b[1;31mENOSPC: no space left on device, open '/var/folders/8t/4nqgszc57h77dwy61lkk106c0000gn/T/kernel-v2-5073FTNrO0itq6yQ.json'. \n",
      "\u001b[1;31mView Jupyter <a href='command:jupyter.viewOutput'>log</a> for further details."
     ]
    }
   ],
   "source": [
    "def cluster_lo(reduced1, reduced2, cell_dict, cells):\n",
    "    G_union = make_union(reduced1, reduced2)\n",
    "\n",
    "    clusters = G_union.community_multilevel(weights=G_union.es[\"weight\"])\n",
    "    \n",
    "    modularity = G_union.modularity(clusters)\n",
    "\n",
    "    num_clusters = len(set(clusters.membership))\n",
    "    print(\"Optimalna modularnost:\", modularity)\n",
    "    print(\"Broj klastera:\", num_clusters)\n",
    "    print(\"\\n\")\n",
    "\n",
    "    color_map = cm.get_cmap('tab20c', num_clusters)\n",
    "    colors = [color_map(i) for i in range(num_clusters)]\n",
    "\n",
    "    node_colors = [colors[cluster] for cluster in  clusters.membership]\n",
    "\n",
    "    plot(G_union, node_colors, cell_dict, cells)"
   ]
  },
  {
   "cell_type": "code",
   "execution_count": null,
   "metadata": {},
   "outputs": [
    {
     "ename": "",
     "evalue": "",
     "output_type": "error",
     "traceback": [
      "\u001b[1;31mFailed to start the Kernel. \n",
      "\u001b[1;31mENOSPC: no space left on device, open '/var/folders/8t/4nqgszc57h77dwy61lkk106c0000gn/T/kernel-v2-5073FTNrO0itq6yQ.json'. \n",
      "\u001b[1;31mView Jupyter <a href='command:jupyter.viewOutput'>log</a> for further details."
     ]
    }
   ],
   "source": [
    "def cluster_leiden_modularity(reduced1, reduced2):\n",
    "    G_union = make_union(reduced1, reduced2)\n",
    "\n",
    "    partition = leidenalg.find_partition(graph=G_union, partition_type=leidenalg.ModularityVertexPartition, n_iterations=-1)\n",
    "\n",
    "    print(\"Optimalna modularnost:\", partition.modularity)\n",
    "    print(\"Broj klastera:\", len(set(partition.membership)))\n",
    "    print(\"\\n\")\n",
    "\n",
    "    color_map = cm.get_cmap('tab20c', len(set(partition.membership)))\n",
    "    colors = [color_map(i) for i in range(len(set(partition.membership)))]\n",
    "\n",
    "    node_colors = [colors[cluster] for cluster in  partition.membership]\n",
    "\n",
    "    plot(G_union, node_colors, cell_dict, cells)\n",
    "    plot_sec(G_union, node_colors)\n",
    "\n",
    "    return partition\n"
   ]
  },
  {
   "cell_type": "code",
   "execution_count": null,
   "metadata": {},
   "outputs": [
    {
     "ename": "",
     "evalue": "",
     "output_type": "error",
     "traceback": [
      "\u001b[1;31mFailed to start the Kernel. \n",
      "\u001b[1;31mENOSPC: no space left on device, open '/var/folders/8t/4nqgszc57h77dwy61lkk106c0000gn/T/kernel-v2-5073FTNrO0itq6yQ.json'. \n",
      "\u001b[1;31mView Jupyter <a href='command:jupyter.viewOutput'>log</a> for further details."
     ]
    }
   ],
   "source": [
    "def cluster_leiden_cpm(reduced1, reduced2):\n",
    "    G_union = make_union(reduced1, reduced2)\n",
    "\n",
    "    partition = leidenalg.find_partition(graph=G_union, partition_type=leidenalg.CPMVertexPartition, n_iterations=-1)\n",
    "\n",
    "    print(\"Optimalna modularnost (2):\", partition.modularity)\n",
    "    print(\"Broj klastera (2):\", len(set(partition.membership)))\n",
    "    print(\"\\n\")\n",
    "\n",
    "    color_map = cm.get_cmap('tab20c', len(set(partition.membership)))\n",
    "    colors = [color_map(i) for i in range(len(set(partition.membership)))]\n",
    "\n",
    "    node_colors = [colors[cluster] for cluster in  partition.membership]\n",
    "\n",
    "    plot(G_union, node_colors, cell_dict, cells)\n",
    "    plot_sec(G_union, node_colors)\n",
    "\n",
    "    return partition\n",
    "    "
   ]
  },
  {
   "cell_type": "code",
   "execution_count": null,
   "metadata": {},
   "outputs": [
    {
     "ename": "",
     "evalue": "",
     "output_type": "error",
     "traceback": [
      "\u001b[1;31mFailed to start the Kernel. \n",
      "\u001b[1;31mENOSPC: no space left on device, open '/var/folders/8t/4nqgszc57h77dwy61lkk106c0000gn/T/kernel-v2-5073FTNrO0itq6yQ.json'. \n",
      "\u001b[1;31mView Jupyter <a href='command:jupyter.viewOutput'>log</a> for further details."
     ]
    }
   ],
   "source": [
    "def optimize_partition(partition, reduced1, reduced2):\n",
    "    G_union = make_union(reduced1, reduced2)\n",
    "\n",
    "    optimiser = leidenalg.Optimiser()\n",
    "    steps = 1\n",
    "    diff = 1\n",
    "    \n",
    "    while diff > 0:\n",
    "        diff = optimiser.optimise_partition(partition)\n",
    "        steps += 1\n",
    "\n",
    "    print(\"Number of steps: \" + str(steps))\n",
    "\n",
    "    print(\"Optimalna modularnost:\", partition.modularity)\n",
    "    print(\"Broj klastera:\", len(set(partition.membership)))\n",
    "    print(\"\\n\")\n",
    "\n",
    "    color_map = cm.get_cmap('tab20c', len(set(partition.membership)))\n",
    "    colors = [color_map(i) for i in range(len(set(partition.membership)))]\n",
    "\n",
    "    node_colors = [colors[cluster] for cluster in  partition.membership]\n",
    "\n",
    "    plot(G_union, node_colors, cell_dict, cells)\n",
    "    plot_sec(G_union, node_colors) "
   ]
  },
  {
   "cell_type": "markdown",
   "metadata": {},
   "source": [
    "**LEIDEN**"
   ]
  },
  {
   "cell_type": "code",
   "execution_count": null,
   "metadata": {},
   "outputs": [
    {
     "ename": "",
     "evalue": "",
     "output_type": "error",
     "traceback": [
      "\u001b[1;31mFailed to start the Kernel. \n",
      "\u001b[1;31mENOSPC: no space left on device, open '/var/folders/8t/4nqgszc57h77dwy61lkk106c0000gn/T/kernel-v2-5073FTNrO0itq6yQ.json'. \n",
      "\u001b[1;31mView Jupyter <a href='command:jupyter.viewOutput'>log</a> for further details."
     ]
    }
   ],
   "source": [
    "i=15\n",
    "print(\"\\n--------------------------------------------\\n\")\n",
    "print(\"Broj najblizih suseda: \"+ str(i))\n",
    "\n",
    "reduced_graph_1 = reduce_graph(norm_adj_matrix_1, i)\n",
    "reduced_graph_2 = reduce_graph(norm_adj_matrix_2, i)\n",
    "\n",
    "pm = cluster_leiden_modularity(reduced_graph_1, reduced_graph_2)\n",
    "pc = cluster_leiden_cpm(reduced_graph_1, reduced_graph_2)\n",
    "\n",
    "optimize_partition(pm, reduced_graph_1, reduced_graph_2)\n",
    "optimize_partition(pc, reduced_graph_1, reduced_graph_2)"
   ]
  }
 ],
 "metadata": {
  "kernelspec": {
   "display_name": "Python 3.10.8 64-bit",
   "language": "python",
   "name": "python3"
  },
  "language_info": {
   "codemirror_mode": {
    "name": "ipython",
    "version": 3
   },
   "file_extension": ".py",
   "mimetype": "text/x-python",
   "name": "python",
   "nbconvert_exporter": "python",
   "pygments_lexer": "ipython3",
   "version": "3.9.7"
  },
  "orig_nbformat": 4,
  "vscode": {
   "interpreter": {
    "hash": "aee8b7b246df8f9039afb4144a1f6fd8d2ca17a180786b69acc140d282b71a49"
   }
  }
 },
 "nbformat": 4,
 "nbformat_minor": 2
}
