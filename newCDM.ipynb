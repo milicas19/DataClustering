{
 "cells": [
  {
   "cell_type": "code",
   "execution_count": null,
   "metadata": {},
   "outputs": [],
   "source": [
    "import pandas as pd\n",
    "import copy\n",
    "import math\n",
    "import numpy as np\n",
    "import enum \n",
    "\n",
    "import networkx as nx\n",
    "from networkx.convert_matrix import from_numpy_array\n",
    "\n",
    "from sklearn.preprocessing import StandardScaler\n",
    "from sklearn.preprocessing import MinMaxScaler\n",
    "from sklearn.decomposition import PCA\n",
    "\n",
    "import scipy.spatial.distance\n",
    "import scipy.stats as stats\n",
    "from scipy.stats import pearsonr\n",
    "from scipy.stats import kurtosis, skew\n",
    "\n",
    "import matplotlib.pyplot as plt\n",
    "\n",
    "import pylab"
   ]
  },
  {
   "cell_type": "code",
   "execution_count": null,
   "metadata": {},
   "outputs": [],
   "source": [
    "cell_data = pd.read_csv('cell_data.tsv', sep='\\t')\n",
    "cell_data.rename(columns={cell_data.columns[0]: 'cellID'}, inplace=True)\n",
    "cell_data"
   ]
  },
  {
   "cell_type": "code",
   "execution_count": null,
   "metadata": {},
   "outputs": [],
   "source": [
    "# pravi matricu susedstva grafa \n",
    "# data_dict[celija] = (x,y) ili data_dict[celija] = redukovane genske ekspresije\n",
    "# cells = [id_celije_1, ... , id_celije_n]\n",
    "def adjacency_matrix(data_dict, cells):\n",
    "    n = len(cells)\n",
    "    adjacency_matrix = np.zeros(shape=(n, n))\n",
    "\n",
    "    for i in range(0, n - 1):\n",
    "        for j in range(i + 1, n):\n",
    "            adjacency_matrix[i][j] = scipy.spatial.distance.euclidean(data_dict[cells[i]], data_dict[cells[j]])\n",
    "            adjacency_matrix[j][i] = adjacency_matrix[i][j]\n",
    "\n",
    "    return adjacency_matrix"
   ]
  },
  {
   "cell_type": "code",
   "execution_count": null,
   "metadata": {},
   "outputs": [],
   "source": [
    "cell_dict = {}\n",
    "cells = []\n",
    "\n",
    "# cell_dict ce sadrzati koordinate celija (cvorova) \n",
    "# cells je lista id-eva svih celija\n",
    "for index, row in cell_data.iterrows():\n",
    "    cell_dict[row['cellID']] = (row['x'], row['y'])\n",
    "    cells.append(row['cellID'])"
   ]
  },
  {
   "cell_type": "code",
   "execution_count": null,
   "metadata": {},
   "outputs": [],
   "source": [
    "adjacency_matrix_1 = adjacency_matrix(cell_dict, cells)"
   ]
  },
  {
   "cell_type": "code",
   "execution_count": null,
   "metadata": {},
   "outputs": [],
   "source": [
    "# Redukcija dimenzionalnosti genskih ekspresija pomocu PCA metode\n",
    "gene_exp = cell_data.copy()\n",
    "gene_exp.drop('cellID', axis=1, inplace=True)\n",
    "gene_exp.drop('x', axis=1, inplace=True)\n",
    "gene_exp.drop('y', axis=1, inplace=True)\n",
    "\n",
    "scaling = StandardScaler()\n",
    "scaling.fit(gene_exp)\n",
    "scaled_data = scaling.transform(gene_exp)\n",
    "\n",
    "pca = PCA(n_components=4800)\n",
    "reduced_data = pca.fit_transform(scaled_data)\n",
    "pca.explained_variance_ratio_.cumsum()"
   ]
  },
  {
   "cell_type": "code",
   "execution_count": null,
   "metadata": {},
   "outputs": [],
   "source": [
    "# reduced_data_dict ce sadrzati redukovane genske ekspresije celija (cvorova) \n",
    "reduced_data_dict = {}\n",
    "for i in range(0, len(reduced_data)):\n",
    "    reduced_data_dict[cells[i]] = reduced_data[i]\n",
    "len(reduced_data_dict)"
   ]
  },
  {
   "cell_type": "code",
   "execution_count": null,
   "metadata": {},
   "outputs": [],
   "source": [
    "adjacency_matrix_2 = adjacency_matrix(reduced_data_dict, cells)"
   ]
  },
  {
   "cell_type": "code",
   "execution_count": null,
   "metadata": {},
   "outputs": [],
   "source": [
    "min_max_scaler = MinMaxScaler(feature_range=(0, 1))\n",
    "norm_adj_matrix_1 = min_max_scaler.fit_transform(adjacency_matrix_1)\n",
    "norm_adj_matrix_1"
   ]
  },
  {
   "cell_type": "code",
   "execution_count": null,
   "metadata": {},
   "outputs": [],
   "source": [
    "norm_adj_matrix_2 = min_max_scaler.fit_transform(adjacency_matrix_2)\n",
    "norm_adj_matrix_2"
   ]
  },
  {
   "cell_type": "code",
   "execution_count": null,
   "metadata": {},
   "outputs": [],
   "source": [
    "stand_scaler = StandardScaler()\n",
    "stand_adj_matrix_1 = stand_scaler.fit_transform(adjacency_matrix_1)\n",
    "stand_adj_matrix_2 = stand_scaler.fit_transform(adjacency_matrix_2)"
   ]
  },
  {
   "cell_type": "code",
   "execution_count": null,
   "metadata": {},
   "outputs": [],
   "source": [
    "class Dissim_metric(enum.Enum):\n",
    "    EUCLIDIAN = 1\n",
    "    MANHATTAN = 2\n",
    "    MINKOWSKI = 3\n",
    "    COSINE = 4"
   ]
  },
  {
   "cell_type": "code",
   "execution_count": null,
   "metadata": {},
   "outputs": [],
   "source": [
    "def plot_dissim_hist(cdm_arr, bins=1000, exp_type=\"unknown\", diss_between=\"unknown\", is_normalized = False):\n",
    "    figure, ax = plt.subplots(nrows=1, ncols=1)\n",
    "    figure.dpi = 100\n",
    "    figure.set_figheight(10)\n",
    "    figure.set_figwidth(16)\n",
    "\n",
    "    _ = ax.hist(cdm_arr, bins=bins)\n",
    "    ax.set_title(\"Histogram of \" + diss_between + \" dissimilarity using \" + exp_type + \" metric\")\n",
    "    if is_normalized:\n",
    "        ax.set_xlabel(\"Normalized dissimilarity\")\n",
    "    else:\n",
    "        ax.set_xlabel(\"Dissimilarity\")\n",
    "    ax.set_ylabel(\"Number of cell pairs with specified dissimilarity\")"
   ]
  },
  {
   "cell_type": "code",
   "execution_count": null,
   "metadata": {},
   "outputs": [],
   "source": [
    "def calc_dissimilarity(arr1, arr2, metric_type):\n",
    "    if metric_type == Dissim_metric.EUCLIDIAN.value:\n",
    "        return scipy.spatial.distance.euclidean(arr1, arr2)\n",
    "\n",
    "    elif metric_type == Dissim_metric.MANHATTAN.value:\n",
    "        return scipy.spatial.distance.cityblock(arr1, arr2)\n",
    "        \n",
    "    elif metric_type == Dissim_metric.MINKOWSKI.value:\n",
    "        return scipy.spatial.distance.minkowski(arr1, arr2, p=3)\n",
    "    \n",
    "    elif metric_type == Dissim_metric.COSINE.value:\n",
    "        return scipy.spatial.distance.cosine(arr1, arr2)"
   ]
  },
  {
   "cell_type": "code",
   "execution_count": null,
   "metadata": {},
   "outputs": [],
   "source": [
    "def create_cdm_matrix(matrix1, matrix2, metric):\n",
    "    n = len(matrix1)\n",
    "    distance_matrix = np.zeros(shape=(n, n))\n",
    "\n",
    "    for i in range(0, n):\n",
    "            distance_matrix[i,j] = calc_dissimilarity(matrix1[i,:], matrix2[i,:], metric_type=metric)\n",
    "    return distance_matrix"
   ]
  },
  {
   "cell_type": "code",
   "execution_count": null,
   "metadata": {},
   "outputs": [],
   "source": [
    "cdm_matrix = {}\n",
    "for met in Dissim_metric:\n",
    "    cdm_matrix[met.name] = create_cdm_matrix(norm_adj_matrix_1, norm_adj_matrix_2, metric=met.value)"
   ]
  },
  {
   "cell_type": "code",
   "execution_count": null,
   "metadata": {},
   "outputs": [],
   "source": [
    "for met in Dissim_metric:\n",
    "    dissimilarity_array = cdm_matrix[met.name].flatten()\n",
    "    dissimilarity_array /= np.max(dissimilarity_array)\n",
    "    plot_dissim_hist(dissimilarity_array, bins=1000, exp_type=met.name, diss_between=\"graph (normalized ajdacency matrix)\")"
   ]
  }
 ],
 "metadata": {
  "kernelspec": {
   "display_name": "Python 3.10.8 64-bit",
   "language": "python",
   "name": "python3"
  },
  "language_info": {
   "name": "python",
   "version": "3.10.8"
  },
  "orig_nbformat": 4,
  "vscode": {
   "interpreter": {
    "hash": "aee8b7b246df8f9039afb4144a1f6fd8d2ca17a180786b69acc140d282b71a49"
   }
  }
 },
 "nbformat": 4,
 "nbformat_minor": 2
}
